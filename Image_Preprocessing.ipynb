{
 "cells": [
  {
   "cell_type": "code",
   "execution_count": 58,
   "metadata": {},
   "outputs": [],
   "source": [
    "## Basic import of of Image"
   ]
  },
  {
   "cell_type": "code",
   "execution_count": 101,
   "metadata": {},
   "outputs": [],
   "source": [
    "import gdal\n",
    "import matplotlib\n",
    "from matplotlib import pyplot as plt\n",
    "import random\n",
    "import numpy as np\n",
    "from PIL import Image\n",
    "import scipy.misc\n",
    "import tifffile\n",
    "import rasterio\n",
    "import cv2"
   ]
  },
  {
   "cell_type": "code",
   "execution_count": 102,
   "metadata": {},
   "outputs": [],
   "source": [
    "def ReadBilFile(bil, band):\n",
    "    gdal.GetDriverByName('EHdr').Register()\n",
    "    img = gdal.Open(bil)\n",
    "    band = img.GetRasterBand(band)\n",
    "    data = band.ReadAsArray()\n",
    "    return data"
   ]
  },
  {
   "cell_type": "code",
   "execution_count": 103,
   "metadata": {},
   "outputs": [],
   "source": [
    "## For all the RS images in the dataset\n",
    "## Chop each study area on 20 images randomly into 256*256*6"
   ]
  },
  {
   "cell_type": "code",
   "execution_count": 152,
   "metadata": {},
   "outputs": [
    {
     "name": "stdout",
     "output_type": "stream",
     "text": [
      "mkdir: CIAdata: File exists\n",
      "mkdir: CIAdata/test: File exists\n",
      "mkdir: CIAdata/train: File exists\n",
      "mkdir: CIAdata/val: File exists\n"
     ]
    }
   ],
   "source": [
    "!mkdir CIAdata\n",
    "!mkdir CIAdata/test\n",
    "!mkdir CIAdata/train\n",
    "!mkdir CIAdata/val"
   ]
  },
  {
   "cell_type": "code",
   "execution_count": 132,
   "metadata": {},
   "outputs": [],
   "source": [
    "## Set up path\n",
    "modis_path_arr = []\n",
    "landsat_path_arr = []\n",
    "\n",
    "\n",
    "modis_path_arr.append(\"./MODIS/2001_281_08oct/CIA_mod_2001_281.dat\")\n",
    "landsat_path_arr.append('./Landsat/2001_281_08oct/CIA_ls_2001_281.dat')\n",
    "\n",
    "modis_path_arr.append(\"./MODIS/2001_290_17oct/CIA_mod_2001_290.dat\")\n",
    "landsat_path_arr.append('./Landsat/2001_290_17oct/CIA_ls_2001_290.dat')\n",
    "\n",
    "modis_path_arr.append(\"./MODIS/2001_306_02nov/CIA_mod_2001_306.dat\")\n",
    "landsat_path_arr.append('./Landsat/2001_306_02nov/CIA_ls_2001_306.dat')\n",
    "\n",
    "modis_path_arr.append(\"./MODIS/2001_313_09nov/CIA_mod_2001_313.dat\")\n",
    "landsat_path_arr.append('./Landsat/2001_313_09nov/CIA_ls_2001_313.dat')\n",
    "\n",
    "modis_path_arr.append(\"./MODIS/2001_329_25nov/CIA_mod_2001_329.dat\")\n",
    "landsat_path_arr.append('./Landsat/2001_329_25nov/CIA_ls_2001_329.dat')\n",
    "\n",
    "modis_path_arr.append(\"./MODIS/2001_338_04dec/CIA_mod_2001_338.dat\")\n",
    "landsat_path_arr.append('./Landsat/2001_338_04dec/CIA_ls_2001_338.dat')\n",
    "\n",
    "modis_path_arr.append(\"./MODIS/2002_005_05jan/CIA_mod_2002_005.dat\")\n",
    "landsat_path_arr.append('./Landsat/2002_005_05jan/CIA_ls_2002_005.dat')\n",
    "\n",
    "modis_path_arr.append(\"./MODIS/2002_012_12jan/CIA_mod_2002_012.dat\")\n",
    "landsat_path_arr.append('./Landsat/2002_012_12jan/CIA_ls_2002_012.dat')\n",
    "\n",
    "modis_path_arr.append(\"./MODIS/2002_044_13feb/CIA_mod_2002_044.dat\")\n",
    "landsat_path_arr.append('./Landsat/2002_044_13feb/CIA_ls_2002_044.dat')\n",
    "\n",
    "modis_path_arr.append(\"./MODIS/2002_053_22feb/CIA_mod_2002_053.dat\")\n",
    "landsat_path_arr.append('./Landsat/2002_053_22feb/CIA_ls_2002_053.dat')\n",
    "\n",
    "modis_path_arr.append(\"./MODIS/2002_069_10mar/CIA_mod_2002_069.dat\")\n",
    "landsat_path_arr.append('./Landsat/2002_069_10mar/CIA_ls_2002_069.dat')\n",
    "\n",
    "modis_path_arr.append(\"./MODIS/2002_076_17mar/CIA_mod_2002_076.dat\")\n",
    "landsat_path_arr.append('./Landsat/2002_076_17mar/CIA_ls_2002_076.dat')\n",
    "\n",
    "modis_path_arr.append(\"./MODIS/2002_092_02apr/CIA_mod_2002_092.dat\")\n",
    "landsat_path_arr.append('./Landsat/2002_092_02apr/CIA_ls_2002_092.dat')\n",
    "\n",
    "modis_path_arr.append(\"./MODIS/2002_101_11apr/CIA_mod_2002_101.dat\")\n",
    "landsat_path_arr.append('./Landsat/2002_101_11apr/CIA_ls_2002_101.dat')\n",
    "\n",
    "modis_path_arr.append(\"./MODIS/2002_108_18apr/CIA_mod_2002_108.dat\")\n",
    "landsat_path_arr.append('./Landsat/2002_108_18apr/CIA_ls_2002_108.dat')\n",
    "\n",
    "modis_path_arr.append(\"./MODIS/2002_117_27apr/CIA_mod_2002_117.dat\")\n",
    "landsat_path_arr.append('./Landsat/2002_117_27apr/CIA_ls_2002_117.dat')\n",
    "\n",
    "modis_path_arr.append(\"./MODIS/2002_124_04may/CIA_mod_2002_124.dat\")\n",
    "landsat_path_arr.append('./Landsat/2002_124_04may/CIA_ls_2002_124.dat')"
   ]
  },
  {
   "cell_type": "code",
   "execution_count": 151,
   "metadata": {
    "scrolled": true
   },
   "outputs": [
    {
     "name": "stdout",
     "output_type": "stream",
     "text": [
      "0\n",
      "1\n",
      "2\n",
      "3\n",
      "4\n",
      "5\n",
      "6\n",
      "7\n",
      "8\n",
      "9\n",
      "10\n",
      "11\n",
      "12\n",
      "13\n",
      "14\n",
      "15\n",
      "16\n"
     ]
    }
   ],
   "source": [
    "## test with first 3 bands for example\n",
    "## 20 images per sample for training\n",
    "## 5 images per sample for testing\n",
    "## 5 images per sample for validation\n",
    "\n",
    "curr_train = 1\n",
    "curr_test = 1\n",
    "curr_val = 1\n",
    "\n",
    "for index in range(0, len(landsat_path_arr)):\n",
    "    modis_path = modis_path_arr[index]\n",
    "    landsat_path = landsat_path_arr[index]\n",
    "    print(index)\n",
    "    for sampleid in range(0,30):\n",
    "        ## make it into 256*512*6\n",
    "        ## MODIS first\n",
    "        ##dummy = np.zeros((256,512,6), dtype=np.int16)\n",
    "        ## 3 band result\n",
    "        dummy = np.zeros((256,512,3), dtype=np.int16)\n",
    "\n",
    "\n",
    "        ## Get the band value for modis\n",
    "        modis = gdal.Open(modis_path)\n",
    "        modis_1 = modis.GetRasterBand(1).ReadAsArray()\n",
    "        modis_2 = modis.GetRasterBand(2).ReadAsArray()\n",
    "        modis_3 = modis.GetRasterBand(3).ReadAsArray()\n",
    "        #modis_4 = modis.GetRasterBand(4).ReadAsArray()\n",
    "        #modis_5 = modis.GetRasterBand(5).ReadAsArray()\n",
    "        #modis_6 = modis.GetRasterBand(6).ReadAsArray()\n",
    "        ## Get the band value for Landsat\n",
    "        \n",
    "        landsat = gdal.Open(landsat_path)\n",
    "        landsat_1 = landsat.GetRasterBand(1).ReadAsArray()\n",
    "        landsat_2 = landsat.GetRasterBand(2).ReadAsArray()\n",
    "        landsat_3 = landsat.GetRasterBand(3).ReadAsArray()\n",
    "        #landsat_4 = landsat.GetRasterBand(4).ReadAsArray()\n",
    "        #landsat_5 = landsat.GetRasterBand(5).ReadAsArray()\n",
    "        #landsat_6 = landsat.GetRasterBand(6).ReadAsArray()\n",
    "\n",
    "        \n",
    "        ## Get the dimension of the data\n",
    "        (x,y) = ReadBilFile(landsat_path, 1).shape\n",
    "        \n",
    "        ## Get a random start\n",
    "        start_x = random.randint(0, x-256)\n",
    "        start_y = random.randint(0, y-256)\n",
    "\n",
    "        for i in range(0, 256):\n",
    "            for j in range(0, 256):\n",
    "                ## band1\n",
    "                dummy[i][j][0] = modis_1[i+start_x][j+start_y]\n",
    "                dummy[i][j+256][0] = landsat_1[i+start_x][j+start_y]\n",
    "                ## band2\n",
    "                dummy[i][j][1] = modis_2[i+start_x][j+start_y]\n",
    "                dummy[i][j+256][1] = landsat_2[i+start_x][j+start_y]\n",
    "                ## band3\n",
    "                dummy[i][j][2] = modis_3[i+start_x][j+start_y]\n",
    "                dummy[i][j+256][2] = landsat_3[i+start_x][j+start_y]\n",
    "                ## band4\n",
    "                ##dummy[i][j][3] = modis_4[i+start_x][j+start_y]\n",
    "                ##dummy[i][j+256][3] = landsat_4[i+start_x][j+start_y]\n",
    "                ## band5\n",
    "                ##dummy[i][j][4] = modis_5[i+start_x][j+start_y]\n",
    "                ##dummy[i][j+256][4] = landsat_5[i+start_x][j+start_y]\n",
    "                ## band6\n",
    "                ##dummy[i][j][5] = modis_6[i+start_x][j+start_y]\n",
    "                ##dummy[i][j+256][5] = landsat_6[i+start_x][j+start_y]\n",
    "                ## into training\n",
    "        if (sampleid<20):\n",
    "            outfile_name = \"./CIAdata/train/\"+str(curr_train)+\".png\"\n",
    "            curr_train = curr_train+1\n",
    "            cv2.imwrite(outfile_name, dummy)\n",
    "        elif (sampleid<25):\n",
    "            outfile_name = \"./CIAdata/test/\"+str(curr_test)+\".png\"\n",
    "            curr_test = curr_test+1\n",
    "            cv2.imwrite(outfile_name, dummy)\n",
    "        else:\n",
    "            outfile_name = \"./CIAdata/val/\"+str(curr_val)+\".png\"\n",
    "            curr_val = curr_val+1\n",
    "            cv2.imwrite(outfile_name, dummy)"
   ]
  },
  {
   "cell_type": "markdown",
   "metadata": {},
   "source": [
    "# Command"
   ]
  },
  {
   "cell_type": "markdown",
   "metadata": {},
   "source": [
    "## Training - About 4-5 minutes per epoch\n",
    "DATA_ROOT=./datasets/CIAdata name=CIAdata_generation which_direction=AtoB gpu=0 cudnn=0 batchSize=10 save_epoch_freq=5 niter=100 th train.lua"
   ]
  },
  {
   "cell_type": "markdown",
   "metadata": {},
   "source": [
    "## Testing \n",
    "\n",
    "DATA_ROOT=./datasets/CIAdata name=CIAdata_generation which_direction=AtoB gpu=0 cudnn=0 phase=val th test.lua"
   ]
  },
  {
   "cell_type": "code",
   "execution_count": null,
   "metadata": {},
   "outputs": [],
   "source": []
  }
 ],
 "metadata": {
  "kernelspec": {
   "display_name": "Python 3 (ipykernel)",
   "language": "python",
   "name": "python3"
  },
  "language_info": {
   "codemirror_mode": {
    "name": "ipython",
    "version": 3
   },
   "file_extension": ".py",
   "mimetype": "text/x-python",
   "name": "python",
   "nbconvert_exporter": "python",
   "pygments_lexer": "ipython3",
   "version": "3.8.8"
  }
 },
 "nbformat": 4,
 "nbformat_minor": 4
}

# I visited the page
